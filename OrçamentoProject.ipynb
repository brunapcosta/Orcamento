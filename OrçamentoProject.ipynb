{
 "cells": [
  {
   "cell_type": "code",
   "execution_count": 1,
   "id": "74ff8dcd",
   "metadata": {},
   "outputs": [
    {
     "name": "stdout",
     "output_type": "stream",
     "text": [
      "Descrição do projeto: Desenvolvimento Python\n",
      "Total de horas estimadas: 60\n",
      "Valor das horas trabalhadas: 120\n",
      "Prazo estimado: 2 meses\n"
     ]
    }
   ],
   "source": [
    "projeto = input(\"Descrição do projeto: \")\n",
    "horas_estimadas = input(\"Total de horas estimadas: \")\n",
    "valor_hora = input(\"Valor das horas trabalhadas: \")\n",
    "prazo_estimado = input(\"Prazo estimado: \")"
   ]
  },
  {
   "cell_type": "code",
   "execution_count": 2,
   "id": "4fb355bb",
   "metadata": {},
   "outputs": [],
   "source": [
    "valor_total_estimado = int(horas_estimadas) * int(valor_hora)"
   ]
  },
  {
   "cell_type": "code",
   "execution_count": 3,
   "id": "2312734c",
   "metadata": {},
   "outputs": [
    {
     "name": "stdout",
     "output_type": "stream",
     "text": [
      "7200\n"
     ]
    }
   ],
   "source": [
    "print(valor_total_estimado)"
   ]
  },
  {
   "cell_type": "code",
   "execution_count": 4,
   "id": "dda2dd8c",
   "metadata": {},
   "outputs": [
    {
     "name": "stdout",
     "output_type": "stream",
     "text": [
      "Requirement already satisfied: fpdf in c:\\users\\bruna\\anaconda3\\lib\\site-packages (1.7.2)\n"
     ]
    }
   ],
   "source": [
    "!pip install fpdf"
   ]
  },
  {
   "cell_type": "code",
   "execution_count": 5,
   "id": "e3a4cfd6",
   "metadata": {},
   "outputs": [
    {
     "name": "stdout",
     "output_type": "stream",
     "text": [
      "Orçamento gerado com sucesso!\n"
     ]
    }
   ],
   "source": [
    "from fpdf import FPDF\n",
    "\n",
    "pdf = FPDF()\n",
    "\n",
    "pdf.add_page()\n",
    "pdf.set_font(\"Arial\")\n",
    "\n",
    "pdf.image(\"template.png\", y=0, x=0)\n",
    "\n",
    "pdf.text(115, 145, projeto)\n",
    "pdf.text(115, 160, horas_estimadas)\n",
    "pdf.text(115, 175, valor_hora)\n",
    "pdf.text(115, 190, prazo_estimado)\n",
    "pdf.text(115, 205, str(valor_total_estimado))\n",
    "\n",
    "pdf.output(\"Orçamento.pdf\")\n",
    "print(\"Orçamento gerado com sucesso!\")"
   ]
  },
  {
   "cell_type": "code",
   "execution_count": null,
   "id": "e2b395ec",
   "metadata": {},
   "outputs": [],
   "source": []
  },
  {
   "cell_type": "code",
   "execution_count": null,
   "id": "2dad26e1",
   "metadata": {},
   "outputs": [],
   "source": []
  }
 ],
 "metadata": {
  "kernelspec": {
   "display_name": "Python 3 (ipykernel)",
   "language": "python",
   "name": "python3"
  },
  "language_info": {
   "codemirror_mode": {
    "name": "ipython",
    "version": 3
   },
   "file_extension": ".py",
   "mimetype": "text/x-python",
   "name": "python",
   "nbconvert_exporter": "python",
   "pygments_lexer": "ipython3",
   "version": "3.11.5"
  }
 },
 "nbformat": 4,
 "nbformat_minor": 5
}
